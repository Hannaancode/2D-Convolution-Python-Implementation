{
  "nbformat": 4,
  "nbformat_minor": 0,
  "metadata": {
    "colab": {
      "provenance": []
    },
    "kernelspec": {
      "name": "python3",
      "display_name": "Python 3"
    },
    "language_info": {
      "name": "python"
    }
  },
  "cells": [
    {
      "cell_type": "code",
      "execution_count": 9,
      "metadata": {
        "id": "yvAEefLHuAfk"
      },
      "outputs": [],
      "source": [
        "import numpy as np\n",
        "from matplotlib import pyplot as plt\n",
        "import cv2"
      ]
    },
    {
      "cell_type": "code",
      "source": [
        "inp = np.array(([4,5,8,7],[1,8,8,8],[3,6,6,4],[6,5,7,8]))\n",
        "print(inp.shape)\n",
        "inp"
      ],
      "metadata": {
        "colab": {
          "base_uri": "https://localhost:8080/"
        },
        "id": "D16hXvXWub8C",
        "outputId": "b04aa873-4e2f-4c92-e13c-9d911c082ae1"
      },
      "execution_count": 10,
      "outputs": [
        {
          "output_type": "stream",
          "name": "stdout",
          "text": [
            "(4, 4)\n"
          ]
        },
        {
          "output_type": "execute_result",
          "data": {
            "text/plain": [
              "array([[4, 5, 8, 7],\n",
              "       [1, 8, 8, 8],\n",
              "       [3, 6, 6, 4],\n",
              "       [6, 5, 7, 8]])"
            ]
          },
          "metadata": {},
          "execution_count": 10
        }
      ]
    },
    {
      "cell_type": "code",
      "source": [
        "k=np.array(([1,4,1],[1,4,3],[3,3,1]))\n",
        "print(k.shape)\n",
        "k"
      ],
      "metadata": {
        "colab": {
          "base_uri": "https://localhost:8080/"
        },
        "id": "Xw-Oafnrvo_L",
        "outputId": "555ffcbe-21d4-4569-afd8-39b5b81ab594"
      },
      "execution_count": 11,
      "outputs": [
        {
          "output_type": "stream",
          "name": "stdout",
          "text": [
            "(3, 3)\n"
          ]
        },
        {
          "output_type": "execute_result",
          "data": {
            "text/plain": [
              "array([[1, 4, 1],\n",
              "       [1, 4, 3],\n",
              "       [3, 3, 1]])"
            ]
          },
          "metadata": {},
          "execution_count": 11
        }
      ]
    },
    {
      "cell_type": "code",
      "source": [
        "w,h=inp.shape\n",
        "w_k,h_k=k.shape\n",
        "s =1\n",
        "w_o=int(((w-w_k)/s)+1)\n",
        "h_o=int(((h-h_k)/s)+1)\n",
        "ext_mat =np.zeros(w*h)\n",
        "print(ext_mat)\n",
        "for i in range(w_k):\n",
        "    ext_mat[i*h:i*h+h_k] =k[i]\n",
        "print(ext_mat)\n",
        "print(ext_mat.shape)\n",
        ""
      ],
      "metadata": {
        "colab": {
          "base_uri": "https://localhost:8080/"
        },
        "id": "HAcAJZkdwRq_",
        "outputId": "bdc54ec3-b2f4-44ab-c480-c46f8630d0bd"
      },
      "execution_count": 12,
      "outputs": [
        {
          "output_type": "stream",
          "name": "stdout",
          "text": [
            "[0. 0. 0. 0. 0. 0. 0. 0. 0. 0. 0. 0. 0. 0. 0. 0.]\n",
            "[1. 4. 1. 0. 1. 4. 3. 0. 3. 3. 1. 0. 0. 0. 0. 0.]\n",
            "(16,)\n"
          ]
        }
      ]
    },
    {
      "cell_type": "code",
      "source": [
        "ext_ker = []\n",
        "for i in range (w_o):\n",
        "  for j in range (h_o):\n",
        "    ext_mat1 = np.roll(ext_mat,h*i*s+j*s)\n",
        "    ext_ker.append(ext_mat1)\n",
        "ext_ker=np.array(ext_ker)\n",
        "print(\"Convolution matrix\")\n",
        "print(ext_ker)\n",
        "print(ext_ker.shape)\n",
        "\n"
      ],
      "metadata": {
        "colab": {
          "base_uri": "https://localhost:8080/"
        },
        "id": "rNnW7tslzJ1K",
        "outputId": "b5f77e4c-eda9-4340-fcd6-1a75788e0f01"
      },
      "execution_count": 13,
      "outputs": [
        {
          "output_type": "stream",
          "name": "stdout",
          "text": [
            "Convolution matrix\n",
            "[[1. 4. 1. 0. 1. 4. 3. 0. 3. 3. 1. 0. 0. 0. 0. 0.]\n",
            " [0. 1. 4. 1. 0. 1. 4. 3. 0. 3. 3. 1. 0. 0. 0. 0.]\n",
            " [0. 0. 0. 0. 1. 4. 1. 0. 1. 4. 3. 0. 3. 3. 1. 0.]\n",
            " [0. 0. 0. 0. 0. 1. 4. 1. 0. 1. 4. 3. 0. 3. 3. 1.]]\n",
            "(4, 16)\n"
          ]
        }
      ]
    },
    {
      "cell_type": "code",
      "source": [
        "inp = inp.flatten()\n",
        "print(inp)\n",
        "out1 = np.matmul(ext_ker,inp)\n",
        "print(out1)\n",
        "out2 = np.reshape(out1,(w_o,h_o))\n",
        "print(out2)\n",
        "print(out2.shape)"
      ],
      "metadata": {
        "colab": {
          "base_uri": "https://localhost:8080/"
        },
        "id": "VE2rQIXl_1-7",
        "outputId": "64e41f78-2d6e-4e1c-edf1-5d3686b1acdb"
      },
      "execution_count": 14,
      "outputs": [
        {
          "output_type": "stream",
          "name": "stdout",
          "text": [
            "[4 5 8 7 1 8 8 8 3 6 6 4 6 5 7 8]\n",
            "[122. 148. 126. 134.]\n",
            "[[122. 148.]\n",
            " [126. 134.]]\n",
            "(2, 2)\n"
          ]
        }
      ]
    },
    {
      "cell_type": "code",
      "source": [],
      "metadata": {
        "id": "2j-CoBeoBAYx"
      },
      "execution_count": null,
      "outputs": []
    }
  ]
}